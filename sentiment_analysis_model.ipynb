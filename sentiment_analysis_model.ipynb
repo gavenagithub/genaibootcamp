{
 "cells": [
  {
   "cell_type": "markdown",
   "id": "b04aa65f",
   "metadata": {},
   "source": [
    "# Sentiment Analysis with NLP\n",
    "\n",
    "This notebook demonstrates how to build a simple sentiment analysis model that can classify text as positive, negative, or neutral. We'll:\n",
    "\n",
    "1. Generate synthetic training data\n",
    "2. Preprocess the text data\n",
    "3. Build and train a machine learning model\n",
    "4. Evaluate the model\n",
    "5. Test the model with custom input"
   ]
  },
  {
   "cell_type": "markdown",
   "id": "148857b8",
   "metadata": {},
   "source": [
    "## 1. Import Required Libraries\n",
    "\n",
    "First, let's import the necessary libraries for our NLP task."
   ]
  },
  {
   "cell_type": "code",
   "execution_count": null,
   "id": "2e1a87f9",
   "metadata": {},
   "outputs": [],
   "source": [
    "import numpy as np\n",
    "import pandas as pd\n",
    "import matplotlib.pyplot as plt\n",
    "import seaborn as sns\n",
    "import random\n",
    "from sklearn.feature_extraction.text import CountVectorizer, TfidfVectorizer\n",
    "from sklearn.model_selection import train_test_split\n",
    "from sklearn.naive_bayes import MultinomialNB\n",
    "from sklearn.linear_model import LogisticRegression\n",
    "from sklearn.metrics import classification_report, confusion_matrix, accuracy_score\n",
    "import warnings\n",
    "\n",
    "# Suppress warnings for cleaner output\n",
    "warnings.filterwarnings('ignore')\n",
    "\n",
    "# Set random seed for reproducibility\n",
    "random.seed(42)\n",
    "np.random.seed(42)"
   ]
  },
  {
   "cell_type": "markdown",
   "id": "0740786e",
   "metadata": {},
   "source": [
    "## 2. Generate Training Data\n",
    "\n",
    "Since we don't have an existing dataset, let's generate 100 example sentences with sentiment labels."
   ]
  },
  {
   "cell_type": "code",
   "execution_count": 4,
   "id": "b6b8fae0",
   "metadata": {},
   "outputs": [],
   "source": [
    "# Define example sentences for each sentiment category\n",
    "positive_templates = [\n",
    "    \"I love {}\",\n",
    "    \"This {} is amazing\",\n",
    "    \"I'm really impressed with {}\",\n",
    "    \"The {} was fantastic\",\n",
    "    \"What a wonderful {}\",\n",
    "    \"I'm so happy about {}\",\n",
    "    \"This {} exceeded my expectations\",\n",
    "    \"The {} is excellent\",\n",
    "    \"I enjoyed {} very much\",\n",
    "    \"Best {} I've ever experienced\"\n",
    "]\n",
    "\n",
    "negative_templates = [\n",
    "    \"I hate {}\",\n",
    "    \"This {} is terrible\",\n",
    "    \"I'm very disappointed with {}\",\n",
    "    \"The {} was awful\",\n",
    "    \"What a horrible {}\",\n",
    "    \"I'm so upset about {}\",\n",
    "    \"This {} fell short of my expectations\",\n",
    "    \"The {} is poor\",\n",
    "    \"I disliked {} very much\",\n",
    "    \"Worst {} I've ever experienced\"\n",
    "]\n",
    "\n",
    "neutral_templates = [\n",
    "    \"This {} is okay\",\n",
    "    \"The {} was average\",\n",
    "    \"I have no strong feelings about {}\",\n",
    "    \"The {} is neither good nor bad\",\n",
    "    \"I'm indifferent about {}\",\n",
    "    \"This {} meets basic expectations\",\n",
    "    \"The {} is acceptable\",\n",
    "    \"I don't have a strong opinion on {}\",\n",
    "    \"The {} is somewhat ordinary\",\n",
    "    \"This {} is standard\"\n",
    "]"
   ]
  },
  {
   "cell_type": "code",
   "execution_count": 5,
   "id": "da0022a1",
   "metadata": {},
   "outputs": [
    {
     "data": {
      "text/html": [
       "<div>\n",
       "<style scoped>\n",
       "    .dataframe tbody tr th:only-of-type {\n",
       "        vertical-align: middle;\n",
       "    }\n",
       "\n",
       "    .dataframe tbody tr th {\n",
       "        vertical-align: top;\n",
       "    }\n",
       "\n",
       "    .dataframe thead th {\n",
       "        text-align: right;\n",
       "    }\n",
       "</style>\n",
       "<table border=\"1\" class=\"dataframe\">\n",
       "  <thead>\n",
       "    <tr style=\"text-align: right;\">\n",
       "      <th></th>\n",
       "      <th>text</th>\n",
       "      <th>sentiment</th>\n",
       "    </tr>\n",
       "  </thead>\n",
       "  <tbody>\n",
       "    <tr>\n",
       "      <th>0</th>\n",
       "      <td>The course was average</td>\n",
       "      <td>neutral</td>\n",
       "    </tr>\n",
       "    <tr>\n",
       "      <th>1</th>\n",
       "      <td>Worst vacation I've ever experienced</td>\n",
       "      <td>negative</td>\n",
       "    </tr>\n",
       "    <tr>\n",
       "      <th>2</th>\n",
       "      <td>The book is somewhat ordinary</td>\n",
       "      <td>neutral</td>\n",
       "    </tr>\n",
       "    <tr>\n",
       "      <th>3</th>\n",
       "      <td>The design was awful</td>\n",
       "      <td>negative</td>\n",
       "    </tr>\n",
       "    <tr>\n",
       "      <th>4</th>\n",
       "      <td>What a horrible product</td>\n",
       "      <td>negative</td>\n",
       "    </tr>\n",
       "  </tbody>\n",
       "</table>\n",
       "</div>"
      ],
      "text/plain": [
       "                                   text sentiment\n",
       "0                The course was average   neutral\n",
       "1  Worst vacation I've ever experienced  negative\n",
       "2         The book is somewhat ordinary   neutral\n",
       "3                  The design was awful  negative\n",
       "4               What a horrible product  negative"
      ]
     },
     "execution_count": 5,
     "metadata": {},
     "output_type": "execute_result"
    }
   ],
   "source": [
    "# Define topics to fill in the templates\n",
    "topics = [\n",
    "    \"movie\", \"restaurant\", \"product\", \"service\", \"experience\", \n",
    "    \"book\", \"hotel\", \"app\", \"concert\", \"weather\", \n",
    "    \"phone\", \"laptop\", \"vacation\", \"food\", \"game\", \n",
    "    \"course\", \"performance\", \"quality\", \"design\", \"meeting\"\n",
    "]\n",
    "\n",
    "# Generate sentences\n",
    "def generate_sentences(templates, topics, count):\n",
    "    sentences = []\n",
    "    for _ in range(count):\n",
    "        template = random.choice(templates)\n",
    "        topic = random.choice(topics)\n",
    "        sentences.append(template.format(topic))\n",
    "    return sentences\n",
    "\n",
    "# Generate around 100 sentences total with balanced classes\n",
    "positive_sentences = generate_sentences(positive_templates, topics, 34)\n",
    "negative_sentences = generate_sentences(negative_templates, topics, 33)\n",
    "neutral_sentences = generate_sentences(neutral_templates, topics, 33)\n",
    "\n",
    "# Combine into a DataFrame\n",
    "data = {\n",
    "    'text': positive_sentences + negative_sentences + neutral_sentences,\n",
    "    'sentiment': ['positive'] * len(positive_sentences) + \n",
    "                ['negative'] * len(negative_sentences) + \n",
    "                ['neutral'] * len(neutral_sentences)\n",
    "}\n",
    "\n",
    "# Create DataFrame and shuffle the data\n",
    "df = pd.DataFrame(data)\n",
    "df = df.sample(frac=1).reset_index(drop=True)\n",
    "\n",
    "# Display the first few examples\n",
    "df.head()"
   ]
  },
  {
   "cell_type": "markdown",
   "id": "4a73099e",
   "metadata": {},
   "source": [
    "Let's see the distribution of sentiment labels in our dataset to ensure it's balanced:"
   ]
  },
  {
   "cell_type": "code",
   "execution_count": 6,
   "id": "9fa5925d",
   "metadata": {},
   "outputs": [
    {
     "data": {
      "image/png": "[encoded data removed]",
      "text/plain": [
       "<Figure size 800x600 with 1 Axes>"
      ]
     },
     "metadata": {},
     "output_type": "display_data"
    },
    {
     "name": "stdout",
     "output_type": "stream",
     "text": [
      "Total samples: 100\n",
      "sentiment\n",
      "positive    34\n",
      "neutral     33\n",
      "negative    33\n",
      "Name: count, dtype: int64\n"
     ]
    }
   ],
   "source": [
    "plt.figure(figsize=(8, 6))\n",
    "sns.countplot(x='sentiment', data=df)\n",
    "plt.title('Distribution of Sentiment Labels')\n",
    "plt.xlabel('Sentiment')\n",
    "plt.ylabel('Count')\n",
    "plt.show()\n",
    "\n",
    "print(f\"Total samples: {len(df)}\")\n",
    "print(df['sentiment'].value_counts())"
   ]
  },
  {
   "cell_type": "markdown",
   "id": "97a0399c",
   "metadata": {},
   "source": [
    "## 3. Preprocess the Text Data\n",
    "\n",
    "Let's convert the text into numerical features that can be used by machine learning algorithms."
   ]
  },
  {
   "cell_type": "code",
   "execution_count": null,
   "id": "b59e54ae",
   "metadata": {},
   "outputs": [
    {
     "name": "stdout",
     "output_type": "stream",
     "text": [
      "Training samples: 80\n",
      "Testing samples: 20\n",
      "Number of features: 57\n"
     ]
    }
   ],
   "source": [
    "# Split the data into training and testing sets\n",
    "X_train, X_test, y_train, y_test = train_test_split(\n",
    "    df['text'], df['sentiment'], test_size=0.2, random_state=42\n",
    ")\n",
    "\n",
    "# Use TF-IDF vectorization to convert text to numerical features\n",
    "tfidf_vectorizer = TfidfVectorizer(max_features=1000, stop_words='english')\n",
    "X_train_tfidf = tfidf_vectorizer.fit_transform(X_train)\n",
    "X_test_tfidf = tfidf_vectorizer.transform(X_test)\n",
    "\n",
    "print(f\"Training samples: {X_train_tfidf.shape[0]}\")\n",
    "print(f\"Testing samples: {X_test_tfidf.shape[0]}\")\n",
    "# print(f\"Number of features: {X_train_tfidf.shape[1]}\")"
   ]
  },
  {
   "cell_type": "markdown",
   "id": "20c674fa",
   "metadata": {},
   "source": [
    "## 4. Build and Train the Model\n",
    "\n",
    "We'll try two different models and compare their performance:\n",
    "1. Multinomial Naive Bayes (often effective for text classification)\n",
    "2. Logistic Regression (another common choice for text classification)"
   ]
  },
  {
   "cell_type": "code",
   "execution_count": 8,
   "id": "2e2cb52c",
   "metadata": {},
   "outputs": [],
   "source": [
    "# Train a Multinomial Naive Bayes model\n",
    "nb_model = MultinomialNB()\n",
    "nb_model.fit(X_train_tfidf, y_train)\n",
    "\n",
    "# Train a Logistic Regression model\n",
    "lr_model = LogisticRegression(max_iter=1000)\n",
    "lr_model.fit(X_train_tfidf, y_train)\n",
    "\n",
    "# Make predictions on the test set\n",
    "nb_predictions = nb_model.predict(X_test_tfidf)\n",
    "lr_predictions = lr_model.predict(X_test_tfidf)"
   ]
  },
  {
   "cell_type": "markdown",
   "id": "2b9896ac",
   "metadata": {},
   "source": [
    "## 5. Evaluate the Models\n",
    "\n",
    "Let's evaluate both models to see which performs better on our test data:\n"
   ]
  },
  {
   "cell_type": "code",
   "execution_count": 9,
   "id": "bdbc9df7",
   "metadata": {},
   "outputs": [
    {
     "name": "stdout",
     "output_type": "stream",
     "text": [
      "\n",
      "--- Naive Bayes Evaluation ---\n",
      "Accuracy: 1.0000\n",
      "\n",
      "Classification Report:\n",
      "              precision    recall  f1-score   support\n",
      "\n",
      "    negative       1.00      1.00      1.00         5\n",
      "     neutral       1.00      1.00      1.00         5\n",
      "    positive       1.00      1.00      1.00        10\n",
      "\n",
      "    accuracy                           1.00        20\n",
      "   macro avg       1.00      1.00      1.00        20\n",
      "weighted avg       1.00      1.00      1.00        20\n",
      "\n"
     ]
    },
    {
     "data": {
      "image/png": "[encoded data removed]",
      "text/plain": [
       "<Figure size 800x600 with 2 Axes>"
      ]
     },
     "metadata": {},
     "output_type": "display_data"
    },
    {
     "name": "stdout",
     "output_type": "stream",
     "text": [
      "\n",
      "--- Logistic Regression Evaluation ---\n",
      "Accuracy: 1.0000\n",
      "\n",
      "Classification Report:\n",
      "              precision    recall  f1-score   support\n",
      "\n",
      "    negative       1.00      1.00      1.00         5\n",
      "     neutral       1.00      1.00      1.00         5\n",
      "    positive       1.00      1.00      1.00        10\n",
      "\n",
      "    accuracy                           1.00        20\n",
      "   macro avg       1.00      1.00      1.00        20\n",
      "weighted avg       1.00      1.00      1.00        20\n",
      "\n"
     ]
    },
    {
     "data": {
      "image/png": "[encoded data removed]",
      "text/plain": [
       "<Figure size 800x600 with 2 Axes>"
      ]
     },
     "metadata": {},
     "output_type": "display_data"
    },
    {
     "name": "stdout",
     "output_type": "stream",
     "text": [
      "\n",
      "Logistic Regression model performs better and will be used for predictions.\n"
     ]
    }
   ],
   "source": [
    "def evaluate_model(y_true, y_pred, model_name):\n",
    "    print(f\"\\n--- {model_name} Evaluation ---\")\n",
    "    print(f\"Accuracy: {accuracy_score(y_true, y_pred):.4f}\\n\")\n",
    "    \n",
    "    print(\"Classification Report:\")\n",
    "    print(classification_report(y_true, y_pred))\n",
    "    \n",
    "    # Plot confusion matrix\n",
    "    plt.figure(figsize=(8, 6))\n",
    "    cm = confusion_matrix(y_true, y_pred)\n",
    "    sns.heatmap(cm, annot=True, fmt='d', cmap='Blues', \n",
    "                xticklabels=['negative', 'neutral', 'positive'],\n",
    "                yticklabels=['negative', 'neutral', 'positive'])\n",
    "    plt.title(f'Confusion Matrix - {model_name}')\n",
    "    plt.ylabel('True Label')\n",
    "    plt.xlabel('Predicted Label')\n",
    "    plt.show()\n",
    "\n",
    "# Evaluate both models\n",
    "evaluate_model(y_test, nb_predictions, \"Naive Bayes\")\n",
    "evaluate_model(y_test, lr_predictions, \"Logistic Regression\")\n",
    "\n",
    "# Choose the better model based on accuracy\n",
    "if accuracy_score(y_test, nb_predictions) > accuracy_score(y_test, lr_predictions):\n",
    "    best_model = nb_model\n",
    "    print(\"\\nNaive Bayes model performs better and will be used for predictions.\")\n",
    "else:\n",
    "    best_model = lr_model\n",
    "    print(\"\\nLogistic Regression model performs better and will be used for predictions.\")"
   ]
  },
  {
   "cell_type": "markdown",
   "id": "b199a8f6",
   "metadata": {},
   "source": [
    "## 6. Test with Custom Input\n",
    "\n",
    "Now let's create a function that can analyze the sentiment of any text input by a user:"
   ]
  },
  {
   "cell_type": "code",
   "execution_count": 10,
   "id": "f42ca6f2",
   "metadata": {},
   "outputs": [],
   "source": [
    "def predict_sentiment(text, model=best_model):\n",
    "    # Preprocess the input text using the same vectorizer\n",
    "    text_tfidf = tfidf_vectorizer.transform([text])\n",
    "    \n",
    "    # Predict sentiment\n",
    "    sentiment = model.predict(text_tfidf)[0]\n",
    "    \n",
    "    # Get probability scores for each class\n",
    "    proba = model.predict_proba(text_tfidf)[0]\n",
    "    confidence = max(proba) * 100\n",
    "    \n",
    "    return {\n",
    "        'text': text,\n",
    "        'sentiment': sentiment,\n",
    "        'confidence': f\"{confidence:.2f}%\",\n",
    "        'probabilities': {\n",
    "            'negative': f\"{proba[0]:.4f}\",\n",
    "            'neutral': f\"{proba[1]:.4f}\" if len(proba) > 2 else \"N/A\",\n",
    "            'positive': f\"{proba[-1]:.4f}\"\n",
    "        }\n",
    "    }"
   ]
  },
  {
   "cell_type": "markdown",
   "id": "81eac189",
   "metadata": {},
   "source": [
    "### Interactive Testing\n",
    "\n",
    "Let's test our model with some examples and then allow for user input:"
   ]
  },
  {
   "cell_type": "code",
   "execution_count": 11,
   "id": "c22d64dc",
   "metadata": {},
   "outputs": [
    {
     "name": "stdout",
     "output_type": "stream",
     "text": [
      "Text: I absolutely loved the movie, it was fantastic!\n",
      "Sentiment: positive (Confidence: 62.38%)\n",
      "Probabilities: {'negative': '0.1393', 'neutral': '0.2369', 'positive': '0.6238'}\n",
      "--------------------------------------------------------------------------------\n",
      "Text: The service was terrible and the staff was rude.\n",
      "Sentiment: negative (Confidence: 51.70%)\n",
      "Probabilities: {'negative': '0.5170', 'neutral': '0.2311', 'positive': '0.2520'}\n",
      "--------------------------------------------------------------------------------\n",
      "Text: The restaurant was okay, nothing special.\n",
      "Sentiment: neutral (Confidence: 44.19%)\n",
      "Probabilities: {'negative': '0.2891', 'neutral': '0.4419', 'positive': '0.2690'}\n",
      "--------------------------------------------------------------------------------\n",
      "Text: I'm not sure how I feel about this product yet.\n",
      "Sentiment: negative (Confidence: 39.25%)\n",
      "Probabilities: {'negative': '0.3925', 'neutral': '0.3465', 'positive': '0.2609'}\n",
      "--------------------------------------------------------------------------------\n"
     ]
    }
   ],
   "source": [
    "# Test with some examples\n",
    "examples = [\n",
    "    \"I absolutely loved the movie, it was fantastic!\",\n",
    "    \"The service was terrible and the staff was rude.\",\n",
    "    \"The restaurant was okay, nothing special.\",\n",
    "    \"I'm not sure how I feel about this product yet.\"\n",
    "]\n",
    "\n",
    "for example in examples:\n",
    "    result = predict_sentiment(example)\n",
    "    print(f\"Text: {result['text']}\")\n",
    "    print(f\"Sentiment: {result['sentiment']} (Confidence: {result['confidence']})\")\n",
    "    print(f\"Probabilities: {result['probabilities']}\")\n",
    "    print(\"-\" * 80)"
   ]
  },
  {
   "cell_type": "markdown",
   "id": "8aa93853",
   "metadata": {},
   "source": [
    "### User Input Interface\n",
    "\n",
    "Now you can test the model with your own text input:"
   ]
  },
  {
   "cell_type": "code",
   "execution_count": null,
   "id": "424e665f",
   "metadata": {},
   "outputs": [
    {
     "data": {
      "application/vnd.jupyter.widget-view+json": {
       "model_id": "877771ae1fa14884a7f018828108c17f",
       "version_major": 2,
       "version_minor": 0
      },
      "text/plain": [
       "Textarea(value='', description='Text:', layout=Layout(height='100px', width='80%'), placeholder='Type your tex…"
      ]
     },
     "metadata": {},
     "output_type": "display_data"
    },
    {
     "data": {
      "application/vnd.jupyter.widget-view+json": {
       "model_id": "296c08a53c2449a0a4ea36fa3a8b9830",
       "version_major": 2,
       "version_minor": 0
      },
      "text/plain": [
       "Button(description='Analyze Sentiment', style=ButtonStyle())"
      ]
     },
     "metadata": {},
     "output_type": "display_data"
    },
    {
     "data": {
      "application/vnd.jupyter.widget-view+json": {
       "model_id": "02f9545a208e4107bd842a6ca528a74c",
       "version_major": 2,
       "version_minor": 0
      },
      "text/plain": [
       "Output()"
      ]
     },
     "metadata": {},
     "output_type": "display_data"
    }
   ],
   "source": [
    "# Function to analyze user input\n",
    "def analyze_user_input():\n",
    "    from IPython.display import display, clear_output\n",
    "    import ipywidgets as widgets\n",
    "    \n",
    "    # Create input widget\n",
    "    text_input = widgets.Textarea(\n",
    "        value='',\n",
    "        placeholder='Type your text here...',\n",
    "        description='Text:',\n",
    "        disabled=False,\n",
    "        layout=widgets.Layout(width='80%', height='100px')\n",
    "    )\n",
    "    \n",
    "    output = widgets.Output()\n",
    "    \n",
    "    # Create button\n",
    "    button = widgets.Button(description=\"Analyze Sentiment\")\n",
    "    \n",
    "    # Define button click function\n",
    "    def on_button_click(b):\n",
    "        with output:\n",
    "            clear_output()\n",
    "            if text_input.value.strip():\n",
    "                result = predict_sentiment(text_input.value)\n",
    "                print(f\"Text: {result['text']}\")\n",
    "                print(f\"Sentiment: {result['sentiment']} (Confidence: {result['confidence']})\")\n",
    "                print(f\"Probabilities: {result['probabilities']}\")\n",
    "            else:\n",
    "                print(\"Please enter some text to analyze.\")\n",
    "    \n",
    "    button.on_click(on_button_click)\n",
    "    \n",
    "    # Display widgets\n",
    "    display(text_input, button, output)\n",
    "\n",
    "# Run the user input interface\n",
    "analyze_user_input()"
   ]
  },
  {
   "cell_type": "markdown",
   "id": "3c5664bd",
   "metadata": {},
   "source": [
    "## 7. Save The Model (Optional)\n",
    "\n",
    "If you want to save this model for future use, you can use joblib or pickle:"
   ]
  },
  {
   "cell_type": "code",
   "execution_count": 13,
   "id": "b3a0139c",
   "metadata": {},
   "outputs": [
    {
     "name": "stdout",
     "output_type": "stream",
     "text": [
      "Model and vectorizer saved successfully!\n"
     ]
    }
   ],
   "source": [
    "import joblib\n",
    "\n",
    "# Save the model and vectorizer\n",
    "joblib.dump(best_model, 'sentiment_model.joblib')\n",
    "joblib.dump(tfidf_vectorizer, 'tfidf_vectorizer.joblib')\n",
    "\n",
    "print(\"Model and vectorizer saved successfully!\")"
   ]
  },
  {
   "cell_type": "markdown",
   "id": "c292cc06",
   "metadata": {},
   "source": [
    "## Conclusion\n",
    "\n",
    "In this notebook, we've:\n",
    "\n",
    "1. Generated a dataset of 100 sentences with sentiment labels\n",
    "2. Preprocessed the text data by removing stopwords, punctuation, etc.\n",
    "3. Built and compared two sentiment analysis models (Logistic Regression and Naive Bayes)\n",
    "4. Evaluated the model's performance using metrics like accuracy and the confusion matrix\n",
    "5. Created an interactive interface for testing the model with custom input\n",
    "\n",
    "This provides a foundation for sentiment analysis that can be expanded with larger datasets, more advanced models, or integrated into applications."
   ]
  },
  {
   "cell_type": "markdown",
   "id": "4031c76f",
   "metadata": {},
   "source": [
    "## 8. Streamlit Interface\n",
    "\n",
    "Let's create a Streamlit application for our sentiment analysis model. This will provide a web interface where users can enter text and get sentiment predictions."
   ]
  },
  {
   "cell_type": "code",
   "execution_count": null,
   "id": "6676212d",
   "metadata": {},
   "outputs": [],
   "source": [
    "# Save this code to a file named 'sentiment_app.py'\n",
    "%%writefile sentiment_app.py\n",
    "\n",
    "import streamlit as st\n",
    "import joblib\n",
    "import pandas as pd\n",
    "import matplotlib.pyplot as plt\n",
    "import seaborn as sns\n",
    "import numpy as np\n",
    "\n",
    "# Set page configuration\n",
    "st.set_page_config(page_title=\"Sentiment Analysis App\", layout=\"wide\")\n",
    "\n",
    "# Load the saved model and vectorizer\n",
    "@st.cache_resource\n",
    "def load_model():\n",
    "    model = joblib.load('sentiment_model.joblib')\n",
    "    vectorizer = joblib.load('tfidf_vectorizer.joblib')\n",
    "    return model, vectorizer\n",
    "\n",
    "# Function to predict sentiment\n",
    "def predict_sentiment(text, model, vectorizer):\n",
    "    # Preprocess the input text using the saved vectorizer\n",
    "    text_tfidf = vectorizer.transform([text])\n",
    "    \n",
    "    # Predict sentiment\n",
    "    sentiment = model.predict(text_tfidf)[0]\n",
    "    \n",
    "    # Get probability scores for each class\n",
    "    proba = model.predict_proba(text_tfidf)[0]\n",
    "    \n",
    "    return sentiment, proba\n",
    "\n",
    "# Create a function to get color for sentiment\n",
    "def get_sentiment_color(sentiment):\n",
    "    if sentiment == 'positive':\n",
    "        return \"#28a745\"  # Green\n",
    "    elif sentiment == 'negative':\n",
    "        return \"#dc3545\"  # Red\n",
    "    else:\n",
    "        return \"#6c757d\"  # Gray for neutral\n",
    "\n",
    "# Main function\n",
    "def main():\n",
    "    # App title\n",
    "    st.title(\"Sentiment Analysis Tool\")\n",
    "    \n",
    "    # Load model and vectorizer\n",
    "    with st.spinner(\"Loading model...\"):\n",
    "        model, vectorizer = load_model()\n",
    "    \n",
    "    # App description\n",
    "    st.write(\"\"\"\n",
    "    This application analyzes the sentiment of your text and classifies it as positive, negative, or neutral.\n",
    "    Enter your text below and click 'Analyze' to get started!\n",
    "    \"\"\")\n",
    "    \n",
    "    # Text input\n",
    "    user_input = st.text_area(\"Enter text for sentiment analysis:\", height=150)\n",
    "    \n",
    "    # Create columns for button alignment\n",
    "    col1, col2, col3 = st.columns([1, 1, 5])\n",
    "    \n",
    "    # Submit button\n",
    "    with col1:\n",
    "        submit_button = st.button(\"Analyze\")\n",
    "    \n",
    "    # Clear button\n",
    "    with col2:\n",
    "        clear_button = st.button(\"Clear\")\n",
    "    \n",
    "    # Handle clear button\n",
    "    if clear_button:\n",
    "        st.session_state.user_input = \"\"\n",
    "        st.rerun()\n",
    "    \n",
    "    # Examples\n",
    "    with st.expander(\"Show example texts\"):\n",
    "        examples = [\n",
    "            \"I absolutely loved the movie, it was fantastic!\",\n",
    "            \"The service was terrible and the staff was rude.\",\n",
    "            \"The restaurant was okay, nothing special.\",\n",
    "            \"I'm not sure how I feel about this product yet.\"\n",
    "        ]\n",
    "        \n",
    "        for i, example in enumerate(examples):\n",
    "            if st.button(f\"Example {i+1}\"):\n",
    "                st.session_state.user_input = example\n",
    "                st.rerun()\n",
    "    \n",
    "    # Keep track of input in session state\n",
    "    if 'user_input' not in st.session_state:\n",
    "        st.session_state.user_input = \"\"\n",
    "    \n",
    "    if user_input:\n",
    "        st.session_state.user_input = user_input\n",
    "    \n",
    "    # When the button is clicked or input is submitted\n",
    "    if submit_button and st.session_state.user_input:\n",
    "        with st.spinner(\"Analyzing sentiment...\"):\n",
    "            # Get sentiment and probabilities\n",
    "            sentiment, probabilities = predict_sentiment(st.session_state.user_input, model, vectorizer)\n",
    "            \n",
    "            # Display results\n",
    "            st.markdown(\"### Analysis Result\")\n",
    "            \n",
    "            # Create columns for layout\n",
    "            col1, col2 = st.columns([1, 1])\n",
    "            \n",
    "            with col1:\n",
    "                # Display sentiment with appropriate styling\n",
    "                sentiment_color = get_sentiment_color(sentiment)\n",
    "                st.markdown(f\"<h2 style='color: {sentiment_color};'>{sentiment.upper()}</h2>\", unsafe_allow_html=True)\n",
    "                \n",
    "                # Display confidence\n",
    "                confidence = max(probabilities) * 100\n",
    "                st.write(f\"Confidence: {confidence:.2f}%\")\n",
    "            \n",
    "            with col2:\n",
    "                # Create bar chart for probabilities\n",
    "                fig, ax = plt.subplots(figsize=(8, 2))\n",
    "                \n",
    "                # Define class names and colors\n",
    "                class_names = model.classes_\n",
    "                colors = ['#dc3545', '#6c757d', '#28a745'] if len(class_names) == 3 else ['#dc3545', '#28a745']\n",
    "                \n",
    "                # Plot horizontal bars\n",
    "                bars = ax.barh(class_names, probabilities, color=colors)\n",
    "                \n",
    "                # Add percentage labels\n",
    "                for i, bar in enumerate(bars):\n",
    "                    width = bar.get_width()\n",
    "                    ax.text(width + 0.01, bar.get_y() + bar.get_height()/2, f\"{width*100:.1f}%\", \n",
    "                            ha='left', va='center')\n",
    "                \n",
    "                # Set labels and title\n",
    "                ax.set_xlabel('Probability')\n",
    "                ax.set_title('Sentiment Probability Distribution')\n",
    "                ax.set_xlim(0, 1)\n",
    "                \n",
    "                # Remove top and right spines\n",
    "                ax.spines['top'].set_visible(False)\n",
    "                ax.spines['right'].set_visible(False)\n",
    "                \n",
    "                # Show the plot\n",
    "                st.pyplot(fig)\n",
    "            \n",
    "            # Show analyzed text\n",
    "            st.markdown(\"### Text Analyzed\")\n",
    "            st.write(st.session_state.user_input)\n",
    "            \n",
    "    # Show a warning if no text is entered\n",
    "    elif submit_button:\n",
    "        st.warning(\"Please enter some text to analyze.\")\n",
    "\n",
    "# Run the app\n",
    "if __name__ == \"__main__\":\n",
    "    main()"
   ]
  },
  {
   "cell_type": "markdown",
   "id": "dddd50a3",
   "metadata": {},
   "source": [
    "### Run Streamlit App\n",
    "\n",
    "To run the Streamlit app, execute the following command in your terminal:\n",
    "\n",
    "```bash\n",
    "streamlit run sentiment_app.py\n",
    "```\n",
    "\n",
    "This will open a web browser with your sentiment analysis app running. If Streamlit is not installed, you can install it with:\n",
    "\n",
    "```bash\n",
    "pip install streamlit\n",
    "```"
   ]
  },
  {
   "cell_type": "code",
   "execution_count": null,
   "id": "b49eb29a",
   "metadata": {},
   "outputs": [],
   "source": [
    "# Install streamlit if needed\n",
    "#!pip install streamlit"
   ]
  }
 ],
 "metadata": {
  "kernelspec": {
   "display_name": "new_env",
   "language": "python",
   "name": "python3"
  },
  "language_info": {
   "codemirror_mode": {
    "name": "ipython",
    "version": 3
   },
   "file_extension": ".py",
   "mimetype": "text/x-python",
   "name": "python",
   "nbconvert_exporter": "python",
   "pygments_lexer": "ipython3",
   "version": "3.10.17"
  }
 },
 "nbformat": 4,
 "nbformat_minor": 5
}
